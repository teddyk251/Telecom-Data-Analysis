{
 "cells": [
  {
   "cell_type": "code",
   "execution_count": 34,
   "metadata": {},
   "outputs": [],
   "source": [
    "import pandas as pd\n",
    "import numpy as np\n",
    "import seaborn as sns\n",
    "import matplotlib.pyplot as plt\n",
    "import os\n",
    "import sys\n",
    "import pickle\n",
    "\n",
    "sys.path.append(\"../scripts/\")\n",
    "\n",
    "from utils import Utils\n",
    "from clean_data import DataCleaner\n",
    "from plot import Plotter\n",
    "from sklearn.cluster import KMeans\n",
    "from sklearn.model_selection import train_test_split\n",
    "from sklearn.linear_model import LinearRegression"
   ]
  },
  {
   "cell_type": "code",
   "execution_count": 2,
   "metadata": {},
   "outputs": [],
   "source": [
    "utils = Utils()\n",
    "plotter = Plotter\n",
    "cleaner = DataCleaner()\n",
    "plotter = Plotter()"
   ]
  },
  {
   "cell_type": "code",
   "execution_count": 4,
   "metadata": {},
   "outputs": [],
   "source": [
    "user_engagement = utils.load_data(\"../data/user_engagement_metric.csv\")\n",
    "user_experience = utils.load_data(\"../data/user_experience_metrics.csv\")"
   ]
  },
  {
   "cell_type": "code",
   "execution_count": 10,
   "metadata": {},
   "outputs": [
    {
     "data": {
      "text/html": [
       "<div>\n",
       "<style scoped>\n",
       "    .dataframe tbody tr th:only-of-type {\n",
       "        vertical-align: middle;\n",
       "    }\n",
       "\n",
       "    .dataframe tbody tr th {\n",
       "        vertical-align: top;\n",
       "    }\n",
       "\n",
       "    .dataframe thead th {\n",
       "        text-align: right;\n",
       "    }\n",
       "</style>\n",
       "<table border=\"1\" class=\"dataframe\">\n",
       "  <thead>\n",
       "    <tr style=\"text-align: right;\">\n",
       "      <th></th>\n",
       "      <th>msisdn/number</th>\n",
       "      <th>session_traffic(bytes)</th>\n",
       "      <th>session_freq</th>\n",
       "      <th>session_duration(ms)</th>\n",
       "      <th>cluster</th>\n",
       "      <th>engagement_score</th>\n",
       "    </tr>\n",
       "  </thead>\n",
       "  <tbody>\n",
       "    <tr>\n",
       "      <th>0</th>\n",
       "      <td>NaN</td>\n",
       "      <td>1.605760e+09</td>\n",
       "      <td>3.5</td>\n",
       "      <td>325034.0</td>\n",
       "      <td>0</td>\n",
       "      <td>0.000455</td>\n",
       "    </tr>\n",
       "    <tr>\n",
       "      <th>1</th>\n",
       "      <td>3.361489e+10</td>\n",
       "      <td>1.605760e+09</td>\n",
       "      <td>3.5</td>\n",
       "      <td>325034.0</td>\n",
       "      <td>0</td>\n",
       "      <td>0.000455</td>\n",
       "    </tr>\n",
       "    <tr>\n",
       "      <th>2</th>\n",
       "      <td>3.376054e+10</td>\n",
       "      <td>1.605760e+09</td>\n",
       "      <td>3.5</td>\n",
       "      <td>325034.0</td>\n",
       "      <td>0</td>\n",
       "      <td>0.000455</td>\n",
       "    </tr>\n",
       "    <tr>\n",
       "      <th>3</th>\n",
       "      <td>3.362578e+10</td>\n",
       "      <td>1.605760e+09</td>\n",
       "      <td>3.5</td>\n",
       "      <td>325034.0</td>\n",
       "      <td>0</td>\n",
       "      <td>0.000455</td>\n",
       "    </tr>\n",
       "    <tr>\n",
       "      <th>4</th>\n",
       "      <td>3.362632e+10</td>\n",
       "      <td>1.605760e+09</td>\n",
       "      <td>3.5</td>\n",
       "      <td>325034.0</td>\n",
       "      <td>0</td>\n",
       "      <td>0.000455</td>\n",
       "    </tr>\n",
       "  </tbody>\n",
       "</table>\n",
       "</div>"
      ],
      "text/plain": [
       "   msisdn/number  session_traffic(bytes)  session_freq  session_duration(ms)  \\\n",
       "0            NaN            1.605760e+09           3.5              325034.0   \n",
       "1   3.361489e+10            1.605760e+09           3.5              325034.0   \n",
       "2   3.376054e+10            1.605760e+09           3.5              325034.0   \n",
       "3   3.362578e+10            1.605760e+09           3.5              325034.0   \n",
       "4   3.362632e+10            1.605760e+09           3.5              325034.0   \n",
       "\n",
       "   cluster  engagement_score  \n",
       "0        0          0.000455  \n",
       "1        0          0.000455  \n",
       "2        0          0.000455  \n",
       "3        0          0.000455  \n",
       "4        0          0.000455  "
      ]
     },
     "execution_count": 10,
     "metadata": {},
     "output_type": "execute_result"
    }
   ],
   "source": [
    "user_engagement.head()\n"
   ]
  },
  {
   "cell_type": "code",
   "execution_count": 9,
   "metadata": {},
   "outputs": [
    {
     "data": {
      "text/html": [
       "<div>\n",
       "<style scoped>\n",
       "    .dataframe tbody tr th:only-of-type {\n",
       "        vertical-align: middle;\n",
       "    }\n",
       "\n",
       "    .dataframe tbody tr th {\n",
       "        vertical-align: top;\n",
       "    }\n",
       "\n",
       "    .dataframe thead th {\n",
       "        text-align: right;\n",
       "    }\n",
       "</style>\n",
       "<table border=\"1\" class=\"dataframe\">\n",
       "  <thead>\n",
       "    <tr style=\"text-align: right;\">\n",
       "      <th></th>\n",
       "      <th>Unnamed: 0</th>\n",
       "      <th>msisdn</th>\n",
       "      <th>handset_type</th>\n",
       "      <th>avg_rtt_(ms)</th>\n",
       "      <th>avg_bearer_tp_(kbps)</th>\n",
       "      <th>tcp_retrans._vol_(bytes)</th>\n",
       "      <th>experience_score</th>\n",
       "    </tr>\n",
       "  </thead>\n",
       "  <tbody>\n",
       "    <tr>\n",
       "      <th>0</th>\n",
       "      <td>0</td>\n",
       "      <td>3.366496e+10</td>\n",
       "      <td>Samsung Galaxy A5 Sm-A520F</td>\n",
       "      <td>47.000000</td>\n",
       "      <td>67.0</td>\n",
       "      <td>2.156957e+07</td>\n",
       "      <td>0.012566</td>\n",
       "    </tr>\n",
       "    <tr>\n",
       "      <th>1</th>\n",
       "      <td>1</td>\n",
       "      <td>3.368185e+10</td>\n",
       "      <td>Samsung Galaxy J5 (Sm-J530)</td>\n",
       "      <td>70.000000</td>\n",
       "      <td>42.0</td>\n",
       "      <td>2.156957e+07</td>\n",
       "      <td>0.012568</td>\n",
       "    </tr>\n",
       "    <tr>\n",
       "      <th>2</th>\n",
       "      <td>2</td>\n",
       "      <td>3.376063e+10</td>\n",
       "      <td>Samsung Galaxy A8 (2018)</td>\n",
       "      <td>127.458589</td>\n",
       "      <td>15.0</td>\n",
       "      <td>2.156957e+07</td>\n",
       "      <td>0.012569</td>\n",
       "    </tr>\n",
       "    <tr>\n",
       "      <th>3</th>\n",
       "      <td>3</td>\n",
       "      <td>3.375034e+10</td>\n",
       "      <td>undefined</td>\n",
       "      <td>127.458589</td>\n",
       "      <td>88.0</td>\n",
       "      <td>2.156957e+07</td>\n",
       "      <td>0.012565</td>\n",
       "    </tr>\n",
       "    <tr>\n",
       "      <th>4</th>\n",
       "      <td>4</td>\n",
       "      <td>3.369980e+10</td>\n",
       "      <td>Samsung Sm-G390F</td>\n",
       "      <td>127.458589</td>\n",
       "      <td>15.0</td>\n",
       "      <td>2.156957e+07</td>\n",
       "      <td>0.012569</td>\n",
       "    </tr>\n",
       "  </tbody>\n",
       "</table>\n",
       "</div>"
      ],
      "text/plain": [
       "   Unnamed: 0        msisdn                 handset_type  avg_rtt_(ms)  \\\n",
       "0           0  3.366496e+10   Samsung Galaxy A5 Sm-A520F     47.000000   \n",
       "1           1  3.368185e+10  Samsung Galaxy J5 (Sm-J530)     70.000000   \n",
       "2           2  3.376063e+10     Samsung Galaxy A8 (2018)    127.458589   \n",
       "3           3  3.375034e+10                    undefined    127.458589   \n",
       "4           4  3.369980e+10             Samsung Sm-G390F    127.458589   \n",
       "\n",
       "   avg_bearer_tp_(kbps)  tcp_retrans._vol_(bytes)  experience_score  \n",
       "0                  67.0              2.156957e+07          0.012566  \n",
       "1                  42.0              2.156957e+07          0.012568  \n",
       "2                  15.0              2.156957e+07          0.012569  \n",
       "3                  88.0              2.156957e+07          0.012565  \n",
       "4                  15.0              2.156957e+07          0.012569  "
      ]
     },
     "execution_count": 9,
     "metadata": {},
     "output_type": "execute_result"
    }
   ],
   "source": [
    "user_experience.head()"
   ]
  },
  {
   "cell_type": "markdown",
   "metadata": {},
   "source": [
    "#### Task 4.2 - Calculate satisfaction score from experience score and engagement score"
   ]
  },
  {
   "cell_type": "code",
   "execution_count": 11,
   "metadata": {},
   "outputs": [],
   "source": [
    "user_engagement.rename(columns={\"score\": \"engagement_score\"}, inplace=True)\n",
    "user_experience.rename(columns={\"score\": \"experience_score\"}, inplace=True)\n",
    "user_engagement.rename(columns={\"msisdn/number\": \"msisdn\"}, inplace=True)"
   ]
  },
  {
   "cell_type": "code",
   "execution_count": 23,
   "metadata": {},
   "outputs": [],
   "source": [
    "user_satisfaction_metrics = pd.merge(user_engagement, user_experience, on=\"msisdn\")\n",
    "user_satisfaction_metrics['satisfaction_score'] = (user_engagement['engagement_score'] + user_experience['experience_score']) / 2"
   ]
  },
  {
   "cell_type": "code",
   "execution_count": 24,
   "metadata": {},
   "outputs": [],
   "source": [
    "score_df = user_satisfaction_metrics[['msisdn', 'satisfaction_score','engagement_score', 'experience_score']]"
   ]
  },
  {
   "cell_type": "code",
   "execution_count": 25,
   "metadata": {},
   "outputs": [
    {
     "name": "stderr",
     "output_type": "stream",
     "text": [
      "/tmp/ipykernel_97438/3782924676.py:1: SettingWithCopyWarning: \n",
      "A value is trying to be set on a copy of a slice from a DataFrame.\n",
      "Try using .loc[row_indexer,col_indexer] = value instead\n",
      "\n",
      "See the caveats in the documentation: https://pandas.pydata.org/pandas-docs/stable/user_guide/indexing.html#returning-a-view-versus-a-copy\n",
      "  score_df['msisdn'] = score_df['msisdn'].astype(str)\n"
     ]
    }
   ],
   "source": [
    "score_df['msisdn'] = score_df['msisdn'].astype(str)\n",
    "score_df = cleaner.remove_nan_categorical(score_df)"
   ]
  },
  {
   "cell_type": "code",
   "execution_count": 46,
   "metadata": {},
   "outputs": [],
   "source": [
    "score_df.dropna(inplace=True)"
   ]
  },
  {
   "cell_type": "markdown",
   "metadata": {},
   "source": [
    "### Top 10 satisfied customers"
   ]
  },
  {
   "cell_type": "code",
   "execution_count": 47,
   "metadata": {},
   "outputs": [
    {
     "data": {
      "image/png": "[encoded data removed]",
      "text/plain": [
       "<Figure size 864x504 with 1 Axes>"
      ]
     },
     "metadata": {
      "needs_background": "light"
     },
     "output_type": "display_data"
    }
   ],
   "source": [
    "top_10_satisfied = score_df.sort_values(by=['satisfaction_score'], ascending=False).head(10)\n",
    "\n",
    "scaled_top_score = cleaner.standard_scaler(top_10_satisfied[['satisfaction_score']])\n",
    "scaled_top_score['msisdn'] = top_10_satisfied['msisdn'].to_list()\n",
    "\n",
    "Plotter.plot_bar(top_10_satisfied, 'msisdn', 'satisfaction_score', 'Top 10 Statisfied Customers', 'msisdn', 'score')"
   ]
  },
  {
   "cell_type": "markdown",
   "metadata": {},
   "source": [
    "### Task 4.3 - Build a regression model that predicts satisfaction score"
   ]
  },
  {
   "cell_type": "code",
   "execution_count": 48,
   "metadata": {},
   "outputs": [],
   "source": [
    "# Get X and Y values for the regression model\n",
    "X = score_df[['engagement_score', 'experience_score']]\n",
    "Y = score_df['satisfaction_score']\n",
    "\n",
    "# Split inpute data into train and test\n",
    "\n",
    "x_train, x_test, y_train, y_test = train_test_split(X, Y, test_size=0.2, random_state=10)\n",
    "\n",
    "reg = LinearRegression()\n",
    "\n",
    "model = reg.fit(x_train, y_train)\n",
    "pred = model.predict(x_test)"
   ]
  },
  {
   "cell_type": "code",
   "execution_count": 49,
   "metadata": {},
   "outputs": [
    {
     "data": {
      "text/plain": [
       "array([0.03658236, 0.0360008 , 0.03470682, ..., 0.03466412, 0.03386526,\n",
       "       0.03545459])"
      ]
     },
     "execution_count": 49,
     "metadata": {},
     "output_type": "execute_result"
    }
   ],
   "source": [
    "pred"
   ]
  },
  {
   "cell_type": "code",
   "execution_count": null,
   "metadata": {},
   "outputs": [],
   "source": []
  },
  {
   "cell_type": "code",
   "execution_count": null,
   "metadata": {},
   "outputs": [],
   "source": []
  }
 ],
 "metadata": {
  "interpreter": {
   "hash": "4013b6f8acbae43f7c648f99fd383e8ec3d5fcc3a746a9453def012ca3c2930d"
  },
  "kernelspec": {
   "display_name": "Python 3.9.7 ('base')",
   "language": "python",
   "name": "python3"
  },
  "language_info": {
   "codemirror_mode": {
    "name": "ipython",
    "version": 3
   },
   "file_extension": ".py",
   "mimetype": "text/x-python",
   "name": "python",
   "nbconvert_exporter": "python",
   "pygments_lexer": "ipython3",
   "version": "3.9.7"
  },
  "orig_nbformat": 4
 },
 "nbformat": 4,
 "nbformat_minor": 2
}
