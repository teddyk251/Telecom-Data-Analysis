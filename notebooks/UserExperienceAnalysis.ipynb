{
 "cells": [
  {
   "cell_type": "code",
   "execution_count": 1,
   "metadata": {},
   "outputs": [],
   "source": [
    "import pandas as pd\n",
    "import numpy as np\n",
    "import seaborn as sns\n",
    "import matplotlib.pyplot as plt\n",
    "import os\n",
    "import sys\n",
    "import pickle\n",
    "\n",
    "sys.path.append(\"../scripts/\")\n",
    "\n",
    "from utils import Utils\n",
    "from clean_data import DataCleaner\n",
    "from plot import Plotter\n",
    "from sklearn.cluster import KMeans"
   ]
  },
  {
   "cell_type": "code",
   "execution_count": 2,
   "metadata": {},
   "outputs": [],
   "source": [
    "utils = Utils()\n",
    "plotter = Plotter\n",
    "cleaner = DataCleaner()\n",
    "plotter = Plotter()"
   ]
  },
  {
   "cell_type": "code",
   "execution_count": 3,
   "metadata": {},
   "outputs": [],
   "source": [
    "df = utils.load_data(\"../data/Week1_challenge_data_source(CSV).csv\")"
   ]
  },
  {
   "cell_type": "code",
   "execution_count": 4,
   "metadata": {},
   "outputs": [
    {
     "data": {
      "text/html": [
       "<div>\n",
       "<style scoped>\n",
       "    .dataframe tbody tr th:only-of-type {\n",
       "        vertical-align: middle;\n",
       "    }\n",
       "\n",
       "    .dataframe tbody tr th {\n",
       "        vertical-align: top;\n",
       "    }\n",
       "\n",
       "    .dataframe thead th {\n",
       "        text-align: right;\n",
       "    }\n",
       "</style>\n",
       "<table border=\"1\" class=\"dataframe\">\n",
       "  <thead>\n",
       "    <tr style=\"text-align: right;\">\n",
       "      <th></th>\n",
       "      <th>Bearer Id</th>\n",
       "      <th>Start</th>\n",
       "      <th>Start ms</th>\n",
       "      <th>End</th>\n",
       "      <th>End ms</th>\n",
       "      <th>Dur. (ms)</th>\n",
       "      <th>IMSI</th>\n",
       "      <th>MSISDN/Number</th>\n",
       "      <th>IMEI</th>\n",
       "      <th>Last Location Name</th>\n",
       "      <th>...</th>\n",
       "      <th>Youtube DL (Bytes)</th>\n",
       "      <th>Youtube UL (Bytes)</th>\n",
       "      <th>Netflix DL (Bytes)</th>\n",
       "      <th>Netflix UL (Bytes)</th>\n",
       "      <th>Gaming DL (Bytes)</th>\n",
       "      <th>Gaming UL (Bytes)</th>\n",
       "      <th>Other DL (Bytes)</th>\n",
       "      <th>Other UL (Bytes)</th>\n",
       "      <th>Total UL (Bytes)</th>\n",
       "      <th>Total DL (Bytes)</th>\n",
       "    </tr>\n",
       "  </thead>\n",
       "  <tbody>\n",
       "    <tr>\n",
       "      <th>0</th>\n",
       "      <td>1.311448e+19</td>\n",
       "      <td>4/4/2019 12:01</td>\n",
       "      <td>770.0</td>\n",
       "      <td>4/25/2019 14:35</td>\n",
       "      <td>662.0</td>\n",
       "      <td>1823652.0</td>\n",
       "      <td>2.082014e+14</td>\n",
       "      <td>3.366496e+10</td>\n",
       "      <td>3.552121e+13</td>\n",
       "      <td>9.16456699548519E+015</td>\n",
       "      <td>...</td>\n",
       "      <td>15854611.0</td>\n",
       "      <td>2501332.0</td>\n",
       "      <td>8198936.0</td>\n",
       "      <td>9656251.0</td>\n",
       "      <td>278082303.0</td>\n",
       "      <td>14344150.0</td>\n",
       "      <td>171744450.0</td>\n",
       "      <td>8814393.0</td>\n",
       "      <td>36749741.0</td>\n",
       "      <td>308879636.0</td>\n",
       "    </tr>\n",
       "    <tr>\n",
       "      <th>1</th>\n",
       "      <td>1.311448e+19</td>\n",
       "      <td>4/9/2019 13:04</td>\n",
       "      <td>235.0</td>\n",
       "      <td>4/25/2019 8:15</td>\n",
       "      <td>606.0</td>\n",
       "      <td>1365104.0</td>\n",
       "      <td>2.082019e+14</td>\n",
       "      <td>3.368185e+10</td>\n",
       "      <td>3.579401e+13</td>\n",
       "      <td>L77566A</td>\n",
       "      <td>...</td>\n",
       "      <td>20247395.0</td>\n",
       "      <td>19111729.0</td>\n",
       "      <td>18338413.0</td>\n",
       "      <td>17227132.0</td>\n",
       "      <td>608750074.0</td>\n",
       "      <td>1170709.0</td>\n",
       "      <td>526904238.0</td>\n",
       "      <td>15055145.0</td>\n",
       "      <td>53800391.0</td>\n",
       "      <td>653384965.0</td>\n",
       "    </tr>\n",
       "    <tr>\n",
       "      <th>2</th>\n",
       "      <td>1.311448e+19</td>\n",
       "      <td>4/9/2019 17:42</td>\n",
       "      <td>1.0</td>\n",
       "      <td>4/25/2019 11:58</td>\n",
       "      <td>652.0</td>\n",
       "      <td>1361762.0</td>\n",
       "      <td>2.082003e+14</td>\n",
       "      <td>3.376063e+10</td>\n",
       "      <td>3.528151e+13</td>\n",
       "      <td>D42335A</td>\n",
       "      <td>...</td>\n",
       "      <td>19725661.0</td>\n",
       "      <td>14699576.0</td>\n",
       "      <td>17587794.0</td>\n",
       "      <td>6163408.0</td>\n",
       "      <td>229584621.0</td>\n",
       "      <td>395630.0</td>\n",
       "      <td>410692588.0</td>\n",
       "      <td>4215763.0</td>\n",
       "      <td>27883638.0</td>\n",
       "      <td>279807335.0</td>\n",
       "    </tr>\n",
       "    <tr>\n",
       "      <th>3</th>\n",
       "      <td>1.311448e+19</td>\n",
       "      <td>4/10/2019 0:31</td>\n",
       "      <td>486.0</td>\n",
       "      <td>4/25/2019 7:36</td>\n",
       "      <td>171.0</td>\n",
       "      <td>1321509.0</td>\n",
       "      <td>2.082014e+14</td>\n",
       "      <td>3.375034e+10</td>\n",
       "      <td>3.535661e+13</td>\n",
       "      <td>T21824A</td>\n",
       "      <td>...</td>\n",
       "      <td>21388122.0</td>\n",
       "      <td>15146643.0</td>\n",
       "      <td>13994646.0</td>\n",
       "      <td>1097942.0</td>\n",
       "      <td>799538153.0</td>\n",
       "      <td>10849722.0</td>\n",
       "      <td>749039933.0</td>\n",
       "      <td>12797283.0</td>\n",
       "      <td>43324218.0</td>\n",
       "      <td>846028530.0</td>\n",
       "    </tr>\n",
       "    <tr>\n",
       "      <th>4</th>\n",
       "      <td>1.311448e+19</td>\n",
       "      <td>4/12/2019 20:10</td>\n",
       "      <td>565.0</td>\n",
       "      <td>4/25/2019 10:40</td>\n",
       "      <td>954.0</td>\n",
       "      <td>1089009.0</td>\n",
       "      <td>2.082014e+14</td>\n",
       "      <td>3.369980e+10</td>\n",
       "      <td>3.540701e+13</td>\n",
       "      <td>D88865A</td>\n",
       "      <td>...</td>\n",
       "      <td>15259380.0</td>\n",
       "      <td>18962873.0</td>\n",
       "      <td>17124581.0</td>\n",
       "      <td>415218.0</td>\n",
       "      <td>527707248.0</td>\n",
       "      <td>3529801.0</td>\n",
       "      <td>550709500.0</td>\n",
       "      <td>13910322.0</td>\n",
       "      <td>38542814.0</td>\n",
       "      <td>569138589.0</td>\n",
       "    </tr>\n",
       "  </tbody>\n",
       "</table>\n",
       "<p>5 rows × 55 columns</p>\n",
       "</div>"
      ],
      "text/plain": [
       "      Bearer Id            Start  Start ms              End  End ms  \\\n",
       "0  1.311448e+19   4/4/2019 12:01     770.0  4/25/2019 14:35   662.0   \n",
       "1  1.311448e+19   4/9/2019 13:04     235.0   4/25/2019 8:15   606.0   \n",
       "2  1.311448e+19   4/9/2019 17:42       1.0  4/25/2019 11:58   652.0   \n",
       "3  1.311448e+19   4/10/2019 0:31     486.0   4/25/2019 7:36   171.0   \n",
       "4  1.311448e+19  4/12/2019 20:10     565.0  4/25/2019 10:40   954.0   \n",
       "\n",
       "   Dur. (ms)          IMSI  MSISDN/Number          IMEI  \\\n",
       "0  1823652.0  2.082014e+14   3.366496e+10  3.552121e+13   \n",
       "1  1365104.0  2.082019e+14   3.368185e+10  3.579401e+13   \n",
       "2  1361762.0  2.082003e+14   3.376063e+10  3.528151e+13   \n",
       "3  1321509.0  2.082014e+14   3.375034e+10  3.535661e+13   \n",
       "4  1089009.0  2.082014e+14   3.369980e+10  3.540701e+13   \n",
       "\n",
       "      Last Location Name  ...  Youtube DL (Bytes)  Youtube UL (Bytes)  \\\n",
       "0  9.16456699548519E+015  ...          15854611.0           2501332.0   \n",
       "1                L77566A  ...          20247395.0          19111729.0   \n",
       "2                D42335A  ...          19725661.0          14699576.0   \n",
       "3                T21824A  ...          21388122.0          15146643.0   \n",
       "4                D88865A  ...          15259380.0          18962873.0   \n",
       "\n",
       "   Netflix DL (Bytes)  Netflix UL (Bytes)  Gaming DL (Bytes)  \\\n",
       "0           8198936.0           9656251.0        278082303.0   \n",
       "1          18338413.0          17227132.0        608750074.0   \n",
       "2          17587794.0           6163408.0        229584621.0   \n",
       "3          13994646.0           1097942.0        799538153.0   \n",
       "4          17124581.0            415218.0        527707248.0   \n",
       "\n",
       "   Gaming UL (Bytes)  Other DL (Bytes)  Other UL (Bytes)  Total UL (Bytes)  \\\n",
       "0         14344150.0       171744450.0         8814393.0        36749741.0   \n",
       "1          1170709.0       526904238.0        15055145.0        53800391.0   \n",
       "2           395630.0       410692588.0         4215763.0        27883638.0   \n",
       "3         10849722.0       749039933.0        12797283.0        43324218.0   \n",
       "4          3529801.0       550709500.0        13910322.0        38542814.0   \n",
       "\n",
       "   Total DL (Bytes)  \n",
       "0       308879636.0  \n",
       "1       653384965.0  \n",
       "2       279807335.0  \n",
       "3       846028530.0  \n",
       "4       569138589.0  \n",
       "\n",
       "[5 rows x 55 columns]"
      ]
     },
     "execution_count": 4,
     "metadata": {},
     "output_type": "execute_result"
    }
   ],
   "source": [
    "df.head()"
   ]
  },
  {
   "cell_type": "code",
   "execution_count": 5,
   "metadata": {},
   "outputs": [
    {
     "data": {
      "text/plain": [
       "Index(['Bearer Id', 'Start', 'Start ms', 'End', 'End ms', 'Dur. (ms)', 'IMSI',\n",
       "       'MSISDN/Number', 'IMEI', 'Last Location Name', 'Avg RTT DL (ms)',\n",
       "       'Avg RTT UL (ms)', 'Avg Bearer TP DL (kbps)', 'Avg Bearer TP UL (kbps)',\n",
       "       'TCP DL Retrans. Vol (Bytes)', 'TCP UL Retrans. Vol (Bytes)',\n",
       "       'DL TP < 50 Kbps (%)', '50 Kbps < DL TP < 250 Kbps (%)',\n",
       "       '250 Kbps < DL TP < 1 Mbps (%)', 'DL TP > 1 Mbps (%)',\n",
       "       'UL TP < 10 Kbps (%)', '10 Kbps < UL TP < 50 Kbps (%)',\n",
       "       '50 Kbps < UL TP < 300 Kbps (%)', 'UL TP > 300 Kbps (%)',\n",
       "       'HTTP DL (Bytes)', 'HTTP UL (Bytes)', 'Activity Duration DL (ms)',\n",
       "       'Activity Duration UL (ms)', 'Dur. (ms).1', 'Handset Manufacturer',\n",
       "       'Handset Type', 'Nb of sec with 125000B < Vol DL',\n",
       "       'Nb of sec with 1250B < Vol UL < 6250B',\n",
       "       'Nb of sec with 31250B < Vol DL < 125000B',\n",
       "       'Nb of sec with 37500B < Vol UL',\n",
       "       'Nb of sec with 6250B < Vol DL < 31250B',\n",
       "       'Nb of sec with 6250B < Vol UL < 37500B',\n",
       "       'Nb of sec with Vol DL < 6250B', 'Nb of sec with Vol UL < 1250B',\n",
       "       'Social Media DL (Bytes)', 'Social Media UL (Bytes)',\n",
       "       'Google DL (Bytes)', 'Google UL (Bytes)', 'Email DL (Bytes)',\n",
       "       'Email UL (Bytes)', 'Youtube DL (Bytes)', 'Youtube UL (Bytes)',\n",
       "       'Netflix DL (Bytes)', 'Netflix UL (Bytes)', 'Gaming DL (Bytes)',\n",
       "       'Gaming UL (Bytes)', 'Other DL (Bytes)', 'Other UL (Bytes)',\n",
       "       'Total UL (Bytes)', 'Total DL (Bytes)'],\n",
       "      dtype='object')"
      ]
     },
     "execution_count": 5,
     "metadata": {},
     "output_type": "execute_result"
    }
   ],
   "source": [
    "df.columns"
   ]
  },
  {
   "cell_type": "code",
   "execution_count": 6,
   "metadata": {},
   "outputs": [],
   "source": [
    "cleaned_df = cleaner.remove_whitespace_column(df)\n",
    "cleaned_df = cleaner.convert_to_string(cleaned_df)\n",
    "cleaned_df = cleaner.convert_to_datetime(cleaned_df)\n",
    "cleaned_df = cleaner.fill_missing_values_numeric(cleaned_df, \"mean\")"
   ]
  },
  {
   "cell_type": "code",
   "execution_count": 7,
   "metadata": {},
   "outputs": [],
   "source": [
    "cleaned_df.rename(columns={'msisdn/number': 'msisdn'}, inplace=True)"
   ]
  },
  {
   "cell_type": "code",
   "execution_count": 8,
   "metadata": {},
   "outputs": [],
   "source": [
    "cleaned_df[['msisdn','handset_type']] = cleaned_df[['msisdn','handset_type' ]].astype(str)\n"
   ]
  },
  {
   "cell_type": "markdown",
   "metadata": {},
   "source": [
    "Extract required columns"
   ]
  },
  {
   "cell_type": "code",
   "execution_count": 9,
   "metadata": {},
   "outputs": [
    {
     "data": {
      "text/html": [
       "<div>\n",
       "<style scoped>\n",
       "    .dataframe tbody tr th:only-of-type {\n",
       "        vertical-align: middle;\n",
       "    }\n",
       "\n",
       "    .dataframe tbody tr th {\n",
       "        vertical-align: top;\n",
       "    }\n",
       "\n",
       "    .dataframe thead th {\n",
       "        text-align: right;\n",
       "    }\n",
       "</style>\n",
       "<table border=\"1\" class=\"dataframe\">\n",
       "  <thead>\n",
       "    <tr style=\"text-align: right;\">\n",
       "      <th></th>\n",
       "      <th>msisdn</th>\n",
       "      <th>handset_type</th>\n",
       "      <th>avg_rtt_dl_(ms)</th>\n",
       "      <th>avg_rtt_ul_(ms)</th>\n",
       "      <th>avg_bearer_tp_dl_(kbps)</th>\n",
       "      <th>avg_bearer_tp_ul_(kbps)</th>\n",
       "      <th>tcp_dl_retrans._vol_(bytes)</th>\n",
       "      <th>tcp_ul_retrans._vol_(bytes)</th>\n",
       "    </tr>\n",
       "  </thead>\n",
       "  <tbody>\n",
       "    <tr>\n",
       "      <th>0</th>\n",
       "      <td>33664962239.0</td>\n",
       "      <td>Samsung Galaxy A5 Sm-A520F</td>\n",
       "      <td>42.000000</td>\n",
       "      <td>5.000000</td>\n",
       "      <td>23.0</td>\n",
       "      <td>44.0</td>\n",
       "      <td>2.080991e+07</td>\n",
       "      <td>759658.664811</td>\n",
       "    </tr>\n",
       "    <tr>\n",
       "      <th>1</th>\n",
       "      <td>33681854413.0</td>\n",
       "      <td>Samsung Galaxy J5 (Sm-J530)</td>\n",
       "      <td>65.000000</td>\n",
       "      <td>5.000000</td>\n",
       "      <td>16.0</td>\n",
       "      <td>26.0</td>\n",
       "      <td>2.080991e+07</td>\n",
       "      <td>759658.664811</td>\n",
       "    </tr>\n",
       "    <tr>\n",
       "      <th>2</th>\n",
       "      <td>33760627129.0</td>\n",
       "      <td>Samsung Galaxy A8 (2018)</td>\n",
       "      <td>109.795706</td>\n",
       "      <td>17.662883</td>\n",
       "      <td>6.0</td>\n",
       "      <td>9.0</td>\n",
       "      <td>2.080991e+07</td>\n",
       "      <td>759658.664811</td>\n",
       "    </tr>\n",
       "    <tr>\n",
       "      <th>3</th>\n",
       "      <td>33750343200.0</td>\n",
       "      <td>undefined</td>\n",
       "      <td>109.795706</td>\n",
       "      <td>17.662883</td>\n",
       "      <td>44.0</td>\n",
       "      <td>44.0</td>\n",
       "      <td>2.080991e+07</td>\n",
       "      <td>759658.664811</td>\n",
       "    </tr>\n",
       "    <tr>\n",
       "      <th>4</th>\n",
       "      <td>33699795932.0</td>\n",
       "      <td>Samsung Sm-G390F</td>\n",
       "      <td>109.795706</td>\n",
       "      <td>17.662883</td>\n",
       "      <td>6.0</td>\n",
       "      <td>9.0</td>\n",
       "      <td>2.080991e+07</td>\n",
       "      <td>759658.664811</td>\n",
       "    </tr>\n",
       "  </tbody>\n",
       "</table>\n",
       "</div>"
      ],
      "text/plain": [
       "          msisdn                 handset_type  avg_rtt_dl_(ms)  \\\n",
       "0  33664962239.0   Samsung Galaxy A5 Sm-A520F        42.000000   \n",
       "1  33681854413.0  Samsung Galaxy J5 (Sm-J530)        65.000000   \n",
       "2  33760627129.0     Samsung Galaxy A8 (2018)       109.795706   \n",
       "3  33750343200.0                    undefined       109.795706   \n",
       "4  33699795932.0             Samsung Sm-G390F       109.795706   \n",
       "\n",
       "   avg_rtt_ul_(ms)  avg_bearer_tp_dl_(kbps)  avg_bearer_tp_ul_(kbps)  \\\n",
       "0         5.000000                     23.0                     44.0   \n",
       "1         5.000000                     16.0                     26.0   \n",
       "2        17.662883                      6.0                      9.0   \n",
       "3        17.662883                     44.0                     44.0   \n",
       "4        17.662883                      6.0                      9.0   \n",
       "\n",
       "   tcp_dl_retrans._vol_(bytes)  tcp_ul_retrans._vol_(bytes)  \n",
       "0                 2.080991e+07                759658.664811  \n",
       "1                 2.080991e+07                759658.664811  \n",
       "2                 2.080991e+07                759658.664811  \n",
       "3                 2.080991e+07                759658.664811  \n",
       "4                 2.080991e+07                759658.664811  "
      ]
     },
     "execution_count": 9,
     "metadata": {},
     "output_type": "execute_result"
    }
   ],
   "source": [
    "user_experience_df = cleaned_df[['msisdn', 'handset_type','avg_rtt_dl_(ms)','avg_rtt_ul_(ms)','avg_bearer_tp_dl_(kbps)','avg_bearer_tp_ul_(kbps)','tcp_dl_retrans._vol_(bytes)','tcp_ul_retrans._vol_(bytes)']]\n",
    "user_experience_df.head()"
   ]
  },
  {
   "cell_type": "code",
   "execution_count": 10,
   "metadata": {},
   "outputs": [
    {
     "data": {
      "text/plain": [
       "msisdn                         0\n",
       "handset_type                   0\n",
       "avg_rtt_dl_(ms)                0\n",
       "avg_rtt_ul_(ms)                0\n",
       "avg_bearer_tp_dl_(kbps)        0\n",
       "avg_bearer_tp_ul_(kbps)        0\n",
       "tcp_dl_retrans._vol_(bytes)    0\n",
       "tcp_ul_retrans._vol_(bytes)    0\n",
       "dtype: int64"
      ]
     },
     "execution_count": 10,
     "metadata": {},
     "output_type": "execute_result"
    }
   ],
   "source": [
    "user_experience_df.isnull().sum()"
   ]
  },
  {
   "cell_type": "markdown",
   "metadata": {},
   "source": [
    "### Task 3.1 - Aggregate per customer, the following information(treat missing and outliers )\n",
    "* Average TCP retransmission\n",
    "* Average RTT\n",
    "* Handset type\n",
    "* Average throughput"
   ]
  },
  {
   "cell_type": "markdown",
   "metadata": {},
   "source": [
    "Aggregat ul and dl columns together"
   ]
  },
  {
   "cell_type": "code",
   "execution_count": 11,
   "metadata": {},
   "outputs": [
    {
     "data": {
      "text/html": [
       "<div>\n",
       "<style scoped>\n",
       "    .dataframe tbody tr th:only-of-type {\n",
       "        vertical-align: middle;\n",
       "    }\n",
       "\n",
       "    .dataframe tbody tr th {\n",
       "        vertical-align: top;\n",
       "    }\n",
       "\n",
       "    .dataframe thead th {\n",
       "        text-align: right;\n",
       "    }\n",
       "</style>\n",
       "<table border=\"1\" class=\"dataframe\">\n",
       "  <thead>\n",
       "    <tr style=\"text-align: right;\">\n",
       "      <th></th>\n",
       "      <th>msisdn</th>\n",
       "      <th>handset_type</th>\n",
       "      <th>avg_rtt_(ms)</th>\n",
       "      <th>avg_bearer_tp_(kbps)</th>\n",
       "      <th>tcp_retrans._vol_(bytes)</th>\n",
       "    </tr>\n",
       "  </thead>\n",
       "  <tbody>\n",
       "    <tr>\n",
       "      <th>0</th>\n",
       "      <td>33664962239.0</td>\n",
       "      <td>Samsung Galaxy A5 Sm-A520F</td>\n",
       "      <td>47.000000</td>\n",
       "      <td>67.0</td>\n",
       "      <td>2.156957e+07</td>\n",
       "    </tr>\n",
       "    <tr>\n",
       "      <th>1</th>\n",
       "      <td>33681854413.0</td>\n",
       "      <td>Samsung Galaxy J5 (Sm-J530)</td>\n",
       "      <td>70.000000</td>\n",
       "      <td>42.0</td>\n",
       "      <td>2.156957e+07</td>\n",
       "    </tr>\n",
       "    <tr>\n",
       "      <th>2</th>\n",
       "      <td>33760627129.0</td>\n",
       "      <td>Samsung Galaxy A8 (2018)</td>\n",
       "      <td>127.458589</td>\n",
       "      <td>15.0</td>\n",
       "      <td>2.156957e+07</td>\n",
       "    </tr>\n",
       "    <tr>\n",
       "      <th>3</th>\n",
       "      <td>33750343200.0</td>\n",
       "      <td>undefined</td>\n",
       "      <td>127.458589</td>\n",
       "      <td>88.0</td>\n",
       "      <td>2.156957e+07</td>\n",
       "    </tr>\n",
       "    <tr>\n",
       "      <th>4</th>\n",
       "      <td>33699795932.0</td>\n",
       "      <td>Samsung Sm-G390F</td>\n",
       "      <td>127.458589</td>\n",
       "      <td>15.0</td>\n",
       "      <td>2.156957e+07</td>\n",
       "    </tr>\n",
       "  </tbody>\n",
       "</table>\n",
       "</div>"
      ],
      "text/plain": [
       "          msisdn                 handset_type  avg_rtt_(ms)  \\\n",
       "0  33664962239.0   Samsung Galaxy A5 Sm-A520F     47.000000   \n",
       "1  33681854413.0  Samsung Galaxy J5 (Sm-J530)     70.000000   \n",
       "2  33760627129.0     Samsung Galaxy A8 (2018)    127.458589   \n",
       "3  33750343200.0                    undefined    127.458589   \n",
       "4  33699795932.0             Samsung Sm-G390F    127.458589   \n",
       "\n",
       "   avg_bearer_tp_(kbps)  tcp_retrans._vol_(bytes)  \n",
       "0                  67.0              2.156957e+07  \n",
       "1                  42.0              2.156957e+07  \n",
       "2                  15.0              2.156957e+07  \n",
       "3                  88.0              2.156957e+07  \n",
       "4                  15.0              2.156957e+07  "
      ]
     },
     "execution_count": 11,
     "metadata": {},
     "output_type": "execute_result"
    }
   ],
   "source": [
    "user_experience_metrics_df = pd.DataFrame(columns=['msisdn', 'handset_type', 'avg_rtt_(ms)', 'avg_bearer_tp_(kbps)', 'tcp_retrans._vol_(bytes)'])\n",
    "\n",
    "user_experience_metrics_df['avg_rtt_(ms)'] = user_experience_df['avg_rtt_dl_(ms)'] + user_experience_df['avg_rtt_ul_(ms)']\n",
    "user_experience_metrics_df['avg_bearer_tp_(kbps)'] = user_experience_df['avg_bearer_tp_dl_(kbps)'] + user_experience_df['avg_bearer_tp_ul_(kbps)']\n",
    "user_experience_metrics_df['tcp_retrans._vol_(bytes)'] = user_experience_df['tcp_dl_retrans._vol_(bytes)'] + user_experience_df['tcp_ul_retrans._vol_(bytes)']\n",
    "\n",
    "user_experience_metrics_df['msisdn'] = user_experience_df['msisdn']\n",
    "user_experience_metrics_df['handset_type'] = user_experience_df['handset_type']\n",
    "\n",
    "user_experience_metrics_df.head()\n"
   ]
  },
  {
   "cell_type": "markdown",
   "metadata": {},
   "source": [
    "Aggregate by customer"
   ]
  },
  {
   "cell_type": "code",
   "execution_count": 17,
   "metadata": {},
   "outputs": [
    {
     "data": {
      "text/html": [
       "<div>\n",
       "<style scoped>\n",
       "    .dataframe tbody tr th:only-of-type {\n",
       "        vertical-align: middle;\n",
       "    }\n",
       "\n",
       "    .dataframe tbody tr th {\n",
       "        vertical-align: top;\n",
       "    }\n",
       "\n",
       "    .dataframe thead th {\n",
       "        text-align: right;\n",
       "    }\n",
       "</style>\n",
       "<table border=\"1\" class=\"dataframe\">\n",
       "  <thead>\n",
       "    <tr style=\"text-align: right;\">\n",
       "      <th></th>\n",
       "      <th>avg_rtt_(ms)</th>\n",
       "      <th>avg_bearer_tp_(kbps)</th>\n",
       "      <th>tcp_retrans._vol_(bytes)</th>\n",
       "    </tr>\n",
       "    <tr>\n",
       "      <th>msisdn</th>\n",
       "      <th></th>\n",
       "      <th></th>\n",
       "      <th></th>\n",
       "    </tr>\n",
       "  </thead>\n",
       "  <tbody>\n",
       "    <tr>\n",
       "      <th>3197020876596.0</th>\n",
       "      <td>127.458589</td>\n",
       "      <td>1.0</td>\n",
       "      <td>2.156957e+07</td>\n",
       "    </tr>\n",
       "    <tr>\n",
       "      <th>33601001722.0</th>\n",
       "      <td>46.000000</td>\n",
       "      <td>76.0</td>\n",
       "      <td>2.156957e+07</td>\n",
       "    </tr>\n",
       "    <tr>\n",
       "      <th>33601001754.0</th>\n",
       "      <td>31.000000</td>\n",
       "      <td>99.0</td>\n",
       "      <td>2.156957e+07</td>\n",
       "    </tr>\n",
       "    <tr>\n",
       "      <th>33601002511.0</th>\n",
       "      <td>127.458589</td>\n",
       "      <td>97.0</td>\n",
       "      <td>2.156957e+07</td>\n",
       "    </tr>\n",
       "    <tr>\n",
       "      <th>33601007832.0</th>\n",
       "      <td>84.000000</td>\n",
       "      <td>248.0</td>\n",
       "      <td>7.607247e+05</td>\n",
       "    </tr>\n",
       "  </tbody>\n",
       "</table>\n",
       "</div>"
      ],
      "text/plain": [
       "                 avg_rtt_(ms)  avg_bearer_tp_(kbps)  tcp_retrans._vol_(bytes)\n",
       "msisdn                                                                       \n",
       "3197020876596.0    127.458589                   1.0              2.156957e+07\n",
       "33601001722.0       46.000000                  76.0              2.156957e+07\n",
       "33601001754.0       31.000000                  99.0              2.156957e+07\n",
       "33601002511.0      127.458589                  97.0              2.156957e+07\n",
       "33601007832.0       84.000000                 248.0              7.607247e+05"
      ]
     },
     "execution_count": 17,
     "metadata": {},
     "output_type": "execute_result"
    }
   ],
   "source": [
    "experience_by_customer = user_experience_metrics_df.groupby(['msisdn']).agg({'avg_rtt_(ms)': 'sum', 'avg_bearer_tp_(kbps)': 'sum', 'tcp_retrans._vol_(bytes)': 'sum'})\n",
    "experience_by_customer.head()"
   ]
  },
  {
   "cell_type": "markdown",
   "metadata": {},
   "source": [
    "Handle outliers"
   ]
  },
  {
   "cell_type": "code",
   "execution_count": 19,
   "metadata": {},
   "outputs": [
    {
     "data": {
      "text/html": [
       "<div>\n",
       "<style scoped>\n",
       "    .dataframe tbody tr th:only-of-type {\n",
       "        vertical-align: middle;\n",
       "    }\n",
       "\n",
       "    .dataframe tbody tr th {\n",
       "        vertical-align: top;\n",
       "    }\n",
       "\n",
       "    .dataframe thead th {\n",
       "        text-align: right;\n",
       "    }\n",
       "</style>\n",
       "<table border=\"1\" class=\"dataframe\">\n",
       "  <thead>\n",
       "    <tr style=\"text-align: right;\">\n",
       "      <th></th>\n",
       "      <th>avg_rtt_(ms)</th>\n",
       "      <th>avg_bearer_tp_(kbps)</th>\n",
       "      <th>tcp_retrans._vol_(bytes)</th>\n",
       "    </tr>\n",
       "    <tr>\n",
       "      <th>msisdn</th>\n",
       "      <th></th>\n",
       "      <th></th>\n",
       "      <th></th>\n",
       "    </tr>\n",
       "  </thead>\n",
       "  <tbody>\n",
       "    <tr>\n",
       "      <th>3197020876596.0</th>\n",
       "      <td>127.458589</td>\n",
       "      <td>1.0</td>\n",
       "      <td>2.156957e+07</td>\n",
       "    </tr>\n",
       "    <tr>\n",
       "      <th>33601001722.0</th>\n",
       "      <td>46.000000</td>\n",
       "      <td>76.0</td>\n",
       "      <td>2.156957e+07</td>\n",
       "    </tr>\n",
       "    <tr>\n",
       "      <th>33601001754.0</th>\n",
       "      <td>31.000000</td>\n",
       "      <td>99.0</td>\n",
       "      <td>2.156957e+07</td>\n",
       "    </tr>\n",
       "    <tr>\n",
       "      <th>33601002511.0</th>\n",
       "      <td>127.458589</td>\n",
       "      <td>97.0</td>\n",
       "      <td>2.156957e+07</td>\n",
       "    </tr>\n",
       "    <tr>\n",
       "      <th>33601007832.0</th>\n",
       "      <td>84.000000</td>\n",
       "      <td>248.0</td>\n",
       "      <td>7.607247e+05</td>\n",
       "    </tr>\n",
       "  </tbody>\n",
       "</table>\n",
       "</div>"
      ],
      "text/plain": [
       "                 avg_rtt_(ms)  avg_bearer_tp_(kbps)  tcp_retrans._vol_(bytes)\n",
       "msisdn                                                                       \n",
       "3197020876596.0    127.458589                   1.0              2.156957e+07\n",
       "33601001722.0       46.000000                  76.0              2.156957e+07\n",
       "33601001754.0       31.000000                  99.0              2.156957e+07\n",
       "33601002511.0      127.458589                  97.0              2.156957e+07\n",
       "33601007832.0       84.000000                 248.0              7.607247e+05"
      ]
     },
     "execution_count": 19,
     "metadata": {},
     "output_type": "execute_result"
    }
   ],
   "source": [
    "experience_by_customer = cleaner.handle_outliers(experience_by_customer, 'avg_rtt_(ms)', 'mean')\n",
    "experience_by_customer = cleaner.handle_outliers(experience_by_customer, 'avg_bearer_tp_(kbps)', 'mean')\n",
    "experience_by_customer = cleaner.handle_outliers(experience_by_customer, 'tcp_retrans._vol_(bytes)', 'mean')\n",
    "\n",
    "experience_by_customer.head()\n"
   ]
  },
  {
   "cell_type": "code",
   "execution_count": 20,
   "metadata": {},
   "outputs": [
    {
     "data": {
      "text/html": [
       "<div>\n",
       "<style scoped>\n",
       "    .dataframe tbody tr th:only-of-type {\n",
       "        vertical-align: middle;\n",
       "    }\n",
       "\n",
       "    .dataframe tbody tr th {\n",
       "        vertical-align: top;\n",
       "    }\n",
       "\n",
       "    .dataframe thead th {\n",
       "        text-align: right;\n",
       "    }\n",
       "</style>\n",
       "<table border=\"1\" class=\"dataframe\">\n",
       "  <thead>\n",
       "    <tr style=\"text-align: right;\">\n",
       "      <th></th>\n",
       "      <th>avg_rtt_(ms)</th>\n",
       "      <th>avg_bearer_tp_(kbps)</th>\n",
       "      <th>tcp_retrans._vol_(bytes)</th>\n",
       "    </tr>\n",
       "  </thead>\n",
       "  <tbody>\n",
       "    <tr>\n",
       "      <th>count</th>\n",
       "      <td>106857.000000</td>\n",
       "      <td>106857.000000</td>\n",
       "      <td>1.068570e+05</td>\n",
       "    </tr>\n",
       "    <tr>\n",
       "      <th>mean</th>\n",
       "      <td>114.074406</td>\n",
       "      <td>15477.989748</td>\n",
       "      <td>1.958933e+07</td>\n",
       "    </tr>\n",
       "    <tr>\n",
       "      <th>std</th>\n",
       "      <td>80.393118</td>\n",
       "      <td>23172.704498</td>\n",
       "      <td>1.316351e+07</td>\n",
       "    </tr>\n",
       "    <tr>\n",
       "      <th>min</th>\n",
       "      <td>0.000000</td>\n",
       "      <td>0.000000</td>\n",
       "      <td>9.700000e+01</td>\n",
       "    </tr>\n",
       "    <tr>\n",
       "      <th>25%</th>\n",
       "      <td>47.000000</td>\n",
       "      <td>97.000000</td>\n",
       "      <td>7.075490e+06</td>\n",
       "    </tr>\n",
       "    <tr>\n",
       "      <th>50%</th>\n",
       "      <td>94.000000</td>\n",
       "      <td>301.000000</td>\n",
       "      <td>2.156957e+07</td>\n",
       "    </tr>\n",
       "    <tr>\n",
       "      <th>75%</th>\n",
       "      <td>140.000000</td>\n",
       "      <td>26508.000000</td>\n",
       "      <td>2.158171e+07</td>\n",
       "    </tr>\n",
       "    <tr>\n",
       "      <th>max</th>\n",
       "      <td>279.500000</td>\n",
       "      <td>66124.500000</td>\n",
       "      <td>4.334104e+07</td>\n",
       "    </tr>\n",
       "  </tbody>\n",
       "</table>\n",
       "</div>"
      ],
      "text/plain": [
       "        avg_rtt_(ms)  avg_bearer_tp_(kbps)  tcp_retrans._vol_(bytes)\n",
       "count  106857.000000         106857.000000              1.068570e+05\n",
       "mean      114.074406          15477.989748              1.958933e+07\n",
       "std        80.393118          23172.704498              1.316351e+07\n",
       "min         0.000000              0.000000              9.700000e+01\n",
       "25%        47.000000             97.000000              7.075490e+06\n",
       "50%        94.000000            301.000000              2.156957e+07\n",
       "75%       140.000000          26508.000000              2.158171e+07\n",
       "max       279.500000          66124.500000              4.334104e+07"
      ]
     },
     "execution_count": 20,
     "metadata": {},
     "output_type": "execute_result"
    }
   ],
   "source": [
    "experience_by_customer.describe()"
   ]
  },
  {
   "cell_type": "markdown",
   "metadata": {},
   "source": [
    "### Task 3.2 - List 10 of top, bottom and most frequent\n",
    "* TCP Values\n",
    "* RTT values\n",
    "* Throughput values"
   ]
  },
  {
   "cell_type": "code",
   "execution_count": 21,
   "metadata": {},
   "outputs": [],
   "source": [
    "tcp = experience_by_customer.sort_values(by=['tcp_retrans._vol_(bytes)'], ascending=False)\n",
    "\n",
    "top_10_tcp = tcp.head(10)\n",
    "bottom_10_tcp = tcp.tail(10)\n",
    "most_freq_tcp = tcp['tcp_retrans._vol_(bytes)'].value_counts().head(10)"
   ]
  },
  {
   "cell_type": "code",
   "execution_count": 25,
   "metadata": {},
   "outputs": [
    {
     "name": "stdout",
     "output_type": "stream",
     "text": [
      "Top 10 TCP Retransmissions:\n"
     ]
    },
    {
     "data": {
      "text/plain": [
       "msisdn\n",
       "nan              4.334104e+07\n",
       "33665337590.0    4.334104e+07\n",
       "33750491291.0    4.334104e+07\n",
       "33629590691.0    4.334104e+07\n",
       "33629595819.0    4.334104e+07\n",
       "33665341309.0    4.334104e+07\n",
       "33661495631.0    4.334104e+07\n",
       "33665341355.0    4.334104e+07\n",
       "33665341575.0    4.334104e+07\n",
       "33665342273.0    4.334104e+07\n",
       "Name: tcp_retrans._vol_(bytes), dtype: float64"
      ]
     },
     "metadata": {},
     "output_type": "display_data"
    },
    {
     "name": "stdout",
     "output_type": "stream",
     "text": [
      "Bottom 10 TCP Retransmissions:\n"
     ]
    },
    {
     "data": {
      "text/plain": [
       "msisdn\n",
       "33699694715.0    182.0\n",
       "33679366089.0    179.0\n",
       "33784203839.0    177.0\n",
       "33650681239.0    176.0\n",
       "33769636458.0    176.0\n",
       "33607833304.0    143.0\n",
       "33626357513.0    134.0\n",
       "33762062356.0    129.0\n",
       "33614777138.0    128.0\n",
       "33650128412.0     97.0\n",
       "Name: tcp_retrans._vol_(bytes), dtype: float64"
      ]
     },
     "metadata": {},
     "output_type": "display_data"
    },
    {
     "name": "stdout",
     "output_type": "stream",
     "text": [
      "Most Frequent TCP Retransmissions:\n"
     ]
    },
    {
     "data": {
      "text/plain": [
       "2.156957e+07    47125\n",
       "4.313915e+07     7468\n",
       "4.334104e+07     6771\n",
       "2.081121e+07      363\n",
       "2.081124e+07      167\n",
       "7.609887e+05      145\n",
       "4.238078e+07       82\n",
       "2.081123e+07       81\n",
       "7.597507e+05       78\n",
       "7.623187e+05       78\n",
       "Name: tcp_retrans._vol_(bytes), dtype: int64"
      ]
     },
     "metadata": {},
     "output_type": "display_data"
    }
   ],
   "source": [
    "print(\"Top 10 TCP Retransmissions:\")\n",
    "display(top_10_tcp['tcp_retrans._vol_(bytes)'])\n",
    "print(\"Bottom 10 TCP Retransmissions:\")\n",
    "display(bottom_10_tcp['tcp_retrans._vol_(bytes)'])\n",
    "print(\"Most Frequent TCP Retransmissions:\")\n",
    "display(most_freq_tcp)"
   ]
  },
  {
   "cell_type": "code",
   "execution_count": 26,
   "metadata": {},
   "outputs": [],
   "source": [
    "rtt = experience_by_customer.sort_values(by=['avg_rtt_(ms)'], ascending=False)\n",
    "\n",
    "top_10_rtt = tcp.head(10)\n",
    "bottom_10_rtt = tcp.tail(10)\n",
    "most_freq_rtt = tcp['avg_rtt_(ms)'].value_counts().head(10)"
   ]
  },
  {
   "cell_type": "code",
   "execution_count": 27,
   "metadata": {},
   "outputs": [
    {
     "name": "stdout",
     "output_type": "stream",
     "text": [
      "Top 10 RTT values:\n"
     ]
    },
    {
     "data": {
      "text/plain": [
       "msisdn\n",
       "nan              279.500000\n",
       "33665337590.0    279.500000\n",
       "33750491291.0     67.000000\n",
       "33629590691.0    215.458589\n",
       "33629595819.0    279.500000\n",
       "33665341309.0    135.000000\n",
       "33661495631.0    146.000000\n",
       "33665341355.0    113.000000\n",
       "33665341575.0    228.000000\n",
       "33665342273.0    124.000000\n",
       "Name: avg_rtt_(ms), dtype: float64"
      ]
     },
     "metadata": {},
     "output_type": "display_data"
    },
    {
     "name": "stdout",
     "output_type": "stream",
     "text": [
      "Bottom 10 RTT values:\n"
     ]
    },
    {
     "data": {
      "text/plain": [
       "msisdn\n",
       "33699694715.0    169.0\n",
       "33679366089.0     39.0\n",
       "33784203839.0     74.0\n",
       "33650681239.0     52.0\n",
       "33769636458.0     32.0\n",
       "33607833304.0     32.0\n",
       "33626357513.0     40.0\n",
       "33762062356.0     41.0\n",
       "33614777138.0     64.0\n",
       "33650128412.0     48.0\n",
       "Name: avg_rtt_(ms), dtype: float64"
      ]
     },
     "metadata": {},
     "output_type": "display_data"
    },
    {
     "name": "stdout",
     "output_type": "stream",
     "text": [
      "Most Frequent RTT values:\n"
     ]
    },
    {
     "data": {
      "text/plain": [
       "127.458589    16353\n",
       "279.500000    11069\n",
       "29.000000      2736\n",
       "39.000000      2162\n",
       "254.917178     1908\n",
       "38.000000      1446\n",
       "30.000000      1419\n",
       "40.000000      1383\n",
       "28.000000      1330\n",
       "49.000000      1194\n",
       "Name: avg_rtt_(ms), dtype: int64"
      ]
     },
     "metadata": {},
     "output_type": "display_data"
    }
   ],
   "source": [
    "print(\"Top 10 RTT values:\")\n",
    "display(top_10_rtt['avg_rtt_(ms)'])\n",
    "print(\"Bottom 10 RTT values:\")\n",
    "display(bottom_10_rtt['avg_rtt_(ms)'])\n",
    "print(\"Most Frequent RTT values:\")\n",
    "display(most_freq_rtt)"
   ]
  },
  {
   "cell_type": "code",
   "execution_count": 28,
   "metadata": {},
   "outputs": [],
   "source": [
    "tp = experience_by_customer.sort_values(by=['avg_bearer_tp_(kbps)'], ascending=False)\n",
    "\n",
    "top_10_tp = tcp.head(10)\n",
    "bottom_10_tp = tcp.tail(10)\n",
    "most_freq_tp = tcp['avg_bearer_tp_(kbps)'].value_counts().head(10)\n"
   ]
  },
  {
   "cell_type": "code",
   "execution_count": 29,
   "metadata": {},
   "outputs": [
    {
     "name": "stdout",
     "output_type": "stream",
     "text": [
      "Top 10 TP values:\n"
     ]
    },
    {
     "data": {
      "text/plain": [
       "msisdn\n",
       "nan              66124.5\n",
       "33665337590.0    66124.5\n",
       "33750491291.0     6864.0\n",
       "33629590691.0     6498.0\n",
       "33629595819.0    25622.0\n",
       "33665341309.0    40513.0\n",
       "33661495631.0      265.0\n",
       "33665341355.0    66124.5\n",
       "33665341575.0    65067.0\n",
       "33665342273.0    52499.0\n",
       "Name: avg_bearer_tp_(kbps), dtype: float64"
      ]
     },
     "metadata": {},
     "output_type": "display_data"
    },
    {
     "name": "stdout",
     "output_type": "stream",
     "text": [
      "Bottom 10 TP values:\n"
     ]
    },
    {
     "data": {
      "text/plain": [
       "msisdn\n",
       "33699694715.0      169.0\n",
       "33679366089.0    35068.0\n",
       "33784203839.0     5897.0\n",
       "33650681239.0     7039.0\n",
       "33769636458.0    12210.0\n",
       "33607833304.0    16853.0\n",
       "33626357513.0    10964.0\n",
       "33762062356.0    32577.0\n",
       "33614777138.0     8654.0\n",
       "33650128412.0    30581.0\n",
       "Name: avg_bearer_tp_(kbps), dtype: float64"
      ]
     },
     "metadata": {},
     "output_type": "display_data"
    },
    {
     "name": "stdout",
     "output_type": "stream",
     "text": [
      "Most Frequent TP values:\n"
     ]
    },
    {
     "data": {
      "text/plain": [
       "66124.5    10621\n",
       "15.0        2685\n",
       "63.0        2072\n",
       "97.0        1023\n",
       "90.0        1005\n",
       "98.0         971\n",
       "96.0         866\n",
       "99.0         853\n",
       "89.0         817\n",
       "95.0         798\n",
       "Name: avg_bearer_tp_(kbps), dtype: int64"
      ]
     },
     "metadata": {},
     "output_type": "display_data"
    }
   ],
   "source": [
    "print(\"Top 10 TP values:\")\n",
    "display(top_10_tp['avg_bearer_tp_(kbps)'])\n",
    "print(\"Bottom 10 TP values:\")\n",
    "display(bottom_10_tp['avg_bearer_tp_(kbps)'])\n",
    "print(\"Most Frequent TP values:\")\n",
    "display(most_freq_tp)"
   ]
  },
  {
   "cell_type": "code",
   "execution_count": null,
   "metadata": {},
   "outputs": [],
   "source": []
  }
 ],
 "metadata": {
  "interpreter": {
   "hash": "4013b6f8acbae43f7c648f99fd383e8ec3d5fcc3a746a9453def012ca3c2930d"
  },
  "kernelspec": {
   "display_name": "Python 3.9.7 ('base')",
   "language": "python",
   "name": "python3"
  },
  "language_info": {
   "codemirror_mode": {
    "name": "ipython",
    "version": 3
   },
   "file_extension": ".py",
   "mimetype": "text/x-python",
   "name": "python",
   "nbconvert_exporter": "python",
   "pygments_lexer": "ipython3",
   "version": "3.9.7"
  },
  "orig_nbformat": 4
 },
 "nbformat": 4,
 "nbformat_minor": 2
}
